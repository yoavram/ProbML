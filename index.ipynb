{
 "cells": [
  {
   "cell_type": "markdown",
   "id": "2c40e9e4-036c-4993-8543-9458a21c62df",
   "metadata": {},
   "source": [
    "![](logo.png)\n",
    "\n",
    "# Introduction to Deep Learning\n",
    "## [Yoav Ram](http://python.yoavram.com)\n",
    "\n",
    "http://python.yoavram.com\n",
    "yoav@yoavram.com"
   ]
  },
  {
   "cell_type": "markdown",
   "id": "46bec896-cd72-411f-b29c-5779ef42def5",
   "metadata": {},
   "source": [
    "# Day 1\n",
    "\n",
    "- [Statistical inference with count data](sessions/mle.ipynb)\n",
    "- [Linear regression](sessions/linear_regression.ipynb)\n",
    "- [Logistic regression](sessions/logistic_regression.ipynb)"
   ]
  },
  {
   "cell_type": "markdown",
   "id": "4928cd6e-8ebe-42f6-a56d-15cf513bf6ba",
   "metadata": {},
   "source": [
    "## Exercises\n",
    "\n",
    "- Linear model: [assignment](exercises/linear-anage.ipynb) | [solution](solutions/linear-anage.ipynb)\n",
    "- Ridge regression: [assignment](exercises/ridge.ipynb) | [solution](solutions/ridge.ipynb)\n",
    "- Object detection: only **Ex 1** in [assignment](exercises/sign-lang.ipynb) | [solution](solutions/sign-lang.ipynb)"
   ]
  },
  {
   "cell_type": "markdown",
   "id": "323d53ef-72ee-44fa-92e7-69ed45e13088",
   "metadata": {},
   "source": [
    "# Day 2\n",
    "- [Softmax regression](sessions/softmax_regression.ipynb)\n",
    "- [Feed forward networks](sessions/FFN.ipynb)\n",
    "- [Feed forward networks with Keras](sessions/K_FFN.ipynb)\n",
    "- [Recurrent neural networks](sessions/RNN.ipynb)\n",
    "\n",
    "## Exercises\n",
    "- [Long Short Term Memory](exercises/LSTM.ipynb) | [solution](solutions/LSTM.ipynb)"
   ]
  },
  {
   "cell_type": "markdown",
   "id": "c43dbc7c-d799-4ff6-8e99-6deecbb782b5",
   "metadata": {},
   "source": [
    "# Day 3\n",
    "- [Convolutional neural networks](sessions/K_CNN.ipynb)\n",
    "- [Convolutional neural networks with spectral data](sessions/audio.ipynb)\n",
    "- [Pretrained models and transfer learning](sessions/pretrained.ipynb)\n",
    "\n",
    "## Exercises\n",
    "- [CNN on MNIST Fashion](exercises/CNN.ipynb) | [solution](exercises/CNN.ipynb)\n",
    "- [CNN with time series data](exercises/CNN_timeseries.ipynb) | [solution](solutions/CNN_timeseries.ipynb)\n",
    "- [CNN regression with audio data](exercises/audio.ipynb) | [solution](solutions/audio.ipynb)\n",
    "- [Sign language classificaiton: Ex 2](exercises/sign-lang.ipynb) | [solutions/sign-lang.ipynb)\n"
   ]
  },
  {
   "cell_type": "markdown",
   "id": "03549e8d-1259-4ced-b0d8-a54521504e89",
   "metadata": {},
   "source": [
    "# Day 4\n",
    "- [Keras functional API](sessions/functional_keras.ipynb)\n",
    "- [Autoencoders](sessions/autoencoders.ipynb)\n",
    "- [Generative adversarial networks](sessions/GAN.ipynb)\n",
    "- [Transformers](sessions/transformer.ipynb)\n",
    "- [Density estimation](sessions/density-estimation.ipynb)\n",
    "\n",
    "## Exercises\n",
    "- [Simple GAN](exercises/GAN.ipynb) | [solution](solutions/GAN.ipynb)\n",
    "- [Auxilary Classifier Generative adversarial networks](exercises/ACGAN.ipynb) | [solution](solutions/ACGAN.ipynb)\n"
   ]
  }
 ],
 "metadata": {
  "kernelspec": {
   "display_name": "Python [conda env:DataSciPy]",
   "language": "python",
   "name": "conda-env-DataSciPy-py"
  },
  "language_info": {
   "codemirror_mode": {
    "name": "ipython",
    "version": 3
   },
   "file_extension": ".py",
   "mimetype": "text/x-python",
   "name": "python",
   "nbconvert_exporter": "python",
   "pygments_lexer": "ipython3",
   "version": "3.12.7"
  }
 },
 "nbformat": 4,
 "nbformat_minor": 5
}

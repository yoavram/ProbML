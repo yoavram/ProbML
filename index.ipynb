{
 "cells": [
  {
   "cell_type": "markdown",
   "id": "46bec896-cd72-411f-b29c-5779ef42def5",
   "metadata": {},
   "source": [
    "- [Statistical inference with count data](sessions/mle.ipynb)\n",
    "- [Linear regression](sessions/linear_regression.ipynb)"
   ]
  }
 ],
 "metadata": {
  "kernelspec": {
   "display_name": "Python [conda env:DataSciPy]",
   "language": "python",
   "name": "conda-env-DataSciPy-py"
  },
  "language_info": {
   "codemirror_mode": {
    "name": "ipython",
    "version": 3
   },
   "file_extension": ".py",
   "mimetype": "text/x-python",
   "name": "python",
   "nbconvert_exporter": "python",
   "pygments_lexer": "ipython3",
   "version": "3.12.7"
  }
 },
 "nbformat": 4,
 "nbformat_minor": 5
}

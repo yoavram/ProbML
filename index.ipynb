{
 "cells": [
  {
   "cell_type": "markdown",
   "id": "46bec896-cd72-411f-b29c-5779ef42def5",
   "metadata": {},
   "source": [
    "# Day 1\n",
    "\n",
    "- [Statistical inference with count data](sessions/mle.ipynb)\n",
    "- [Linear regression](sessions/linear_regression.ipynb)\n",
    "- [Logistic regression](sessions/logistic_regression.ipynb)\n",
    "- [Softmax regression](sessions/softmax_regression.ipynb)"
   ]
  },
  {
   "cell_type": "code",
   "execution_count": null,
   "id": "4ca53dfc-6ba3-4b57-86b3-170dc959ece9",
   "metadata": {},
   "outputs": [],
   "source": [
    "![Py4Eng](sessions/img/logo.png)\n",
    "\n",
    "# Data Science with Python\n",
    "## [Yoav Ram](http://python.yoavram.com)\n",
    "\n",
    "http://python.yoavram.com\n",
    "yoav@yoavram.com"
   ]
  }
 ],
 "metadata": {
  "kernelspec": {
   "display_name": "Python [conda env:DataSciPy]",
   "language": "python",
   "name": "conda-env-DataSciPy-py"
  },
  "language_info": {
   "codemirror_mode": {
    "name": "ipython",
    "version": 3
   },
   "file_extension": ".py",
   "mimetype": "text/x-python",
   "name": "python",
   "nbconvert_exporter": "python",
   "pygments_lexer": "ipython3",
   "version": "3.12.7"
  }
 },
 "nbformat": 4,
 "nbformat_minor": 5
}

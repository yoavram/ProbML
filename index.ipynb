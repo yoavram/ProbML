{
 "cells": [
  {
   "cell_type": "markdown",
   "id": "2c40e9e4-036c-4993-8543-9458a21c62df",
   "metadata": {},
   "source": [
    "![](logo.png)\n",
    "\n",
    "# Introduction to Deep Learning\n",
    "## [Yoav Ram](http://python.yoavram.com)\n",
    "\n",
    "http://python.yoavram.com\n",
    "yoav@yoavram.com\n",
    "\n",
    "- [JAX tutorial](https://colinraffel.com/blog/you-don-t-know-jax.html) by Colin Raffel"
   ]
  },
  {
   "cell_type": "markdown",
   "id": "46bec896-cd72-411f-b29c-5779ef42def5",
   "metadata": {},
   "source": [
    "# Day 1\n",
    "\n",
    "- [Statistical inference with count data](sessions/mle.ipynb)\n",
    "- [Linear regression](sessions/linear_regression.ipynb)\n",
    "- [Logistic regression](sessions/logistic_regression.ipynb)"
   ]
  },
  {
   "cell_type": "markdown",
   "id": "4928cd6e-8ebe-42f6-a56d-15cf513bf6ba",
   "metadata": {},
   "source": [
    "## Exercises\n",
    "\n",
    "- Linear model: [assignment](exercises/linear-anage.ipynb) | [solution](solutions/linear-anage.ipynb)\n",
    "- Ridge regression: [assignment](exercises/ridge.ipynb) | [solution](solutions/ridge.ipynb)\n",
    "- Object detection: only **Ex 1** in [assignment](exercises/sign-lang.ipynb) | [solution](solutions/sign-lang.ipynb)"
   ]
  },
  {
   "cell_type": "markdown",
   "id": "323d53ef-72ee-44fa-92e7-69ed45e13088",
   "metadata": {},
   "source": [
    "# Day 2\n",
    "- [Robust regression](sessions/robust-regression.ipynb)\n",
    "- [Gamma regression](sessions/gamma_regression.ipynb)\n",
    "- [Softmax regression](sessions/softmax_regression.ipynb)\n",
    "- [Feed forward networks](sessions/FFN.ipynb)\n",
    "\n",
    "## Exercises\n",
    "- Extend FFN to more than two layers\n",
    "- Train a FFN on the [Fashion MNIST dataset](https://keras.io/api/datasets/fashion_mnist/)"
   ]
  },
  {
   "cell_type": "markdown",
   "id": "c43dbc7c-d799-4ff6-8e99-6deecbb782b5",
   "metadata": {},
   "source": [
    "# Day 3\n",
    "- [Feed forward networks with Keras](sessions/K_FFN.ipynb) | [solution](solutions/K_FFN.ipynb)\n",
    "- [Convolutional neural networks](sessions/K_CNN.ipynb)\n",
    "- [Pretrained models and transfer learning](sessions/pretrained.ipynb)\n",
    "- [CNN with time series data](sessions/CNN_timeseries.ipynb)\n",
    "- [Convolutional neural networks with audio data](sessions/audio.ipynb)\n",
    "\n",
    "## Exercises\n",
    "- [CNN on MNIST Fashion](exercises/CNN.ipynb) | [solution](solutions/CNN.ipynb)\n",
    "- [CNN regression with audio data](exercises/audio.ipynb) | [solution](solutions/audio.ipynb)\n",
    "- [Sign language classificaiton: Ex 2](exercises/sign-lang.ipynb) | [solution](solutions/sign-lang.ipynb)\n"
   ]
  },
  {
   "cell_type": "markdown",
   "id": "03549e8d-1259-4ced-b0d8-a54521504e89",
   "metadata": {},
   "source": [
    "# Day 4\n",
    "- [Recurrent neural networks](sessions/RNN.ipynb)\n",
    "- [Gated recurrent networks](sessions/GRU.ipynb)\n",
    "- [Keras functional API](sessions/functional_keras.ipynb) | [solution](solutions/functional_keras.ipynb)\n",
    "- [Autoencoders](sessions/autoencoders.ipynb)\n",
    "- [Generative adversarial networks](sessions/GAN.ipynb)\n",
    "- [Transformers](sessions/transformer.ipynb)\n",
    "\n",
    "## Exercises\n",
    "- [Long Short Term Memory](exercises/LSTM.ipynb) | [solution](solutions/LSTM.ipynb)\n",
    "- [Simple GAN](exercises/GAN.ipynb) | [solution](solutions/GAN.ipynb)\n",
    "- [Auxilary Classifier Generative adversarial networks](exercises/ACGAN.ipynb) | [solution](solutions/ACGAN.ipynb)\n"
   ]
  },
  {
   "cell_type": "markdown",
   "id": "32f6247a-0f70-41b1-bb11-97ff917c1957",
   "metadata": {},
   "source": [
    "# Tips\n",
    "1. To use Keras with JAX backend:\n",
    "```python\n",
    "import os\n",
    "os.environ['KERAS_BACKEND'] = 'jax'\n",
    "import keras\n",
    "```"
   ]
  },
  {
   "cell_type": "code",
   "execution_count": null,
   "id": "ee155edb-a305-484d-8de0-bdd2e7494e21",
   "metadata": {},
   "outputs": [],
   "source": []
  }
 ],
 "metadata": {
  "kernelspec": {
   "display_name": "Python [conda env:DataSciPy]",
   "language": "python",
   "name": "conda-env-DataSciPy-py"
  },
  "language_info": {
   "codemirror_mode": {
    "name": "ipython",
    "version": 3
   },
   "file_extension": ".py",
   "mimetype": "text/x-python",
   "name": "python",
   "nbconvert_exporter": "python",
   "pygments_lexer": "ipython3",
   "version": "3.12.7"
  }
 },
 "nbformat": 4,
 "nbformat_minor": 5
}

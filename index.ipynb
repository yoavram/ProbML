{
 "cells": [
  {
   "cell_type": "markdown",
   "id": "2c40e9e4-036c-4993-8543-9458a21c62df",
   "metadata": {},
   "source": [
    "![](logo.png)\n",
    "\n",
    "# Introduction to Deep Learning\n",
    "## [Yoav Ram](http://python.yoavram.com)\n",
    "\n",
    "http://python.yoavram.com\n",
    "yoav@yoavram.com"
   ]
  },
  {
   "cell_type": "markdown",
   "id": "46bec896-cd72-411f-b29c-5779ef42def5",
   "metadata": {},
   "source": [
    "# Day 1\n",
    "\n",
    "- [Statistical inference with count data](sessions/mle.ipynb)\n",
    "- [Linear regression](sessions/linear_regression.ipynb)\n",
    "- [Logistic regression](sessions/logistic_regression.ipynb)\n",
    "- [Softmax regression](sessions/softmax_regression.ipynb)"
   ]
  },
  {
   "cell_type": "markdown",
   "id": "4928cd6e-8ebe-42f6-a56d-15cf513bf6ba",
   "metadata": {},
   "source": [
    "## Exercises\n",
    "\n",
    "- Linear model: [assignment](exercises/linear-anage.ipynb) | [solution](solutions/linear-anage.ipynb)\n",
    "- Ridge regression: [assignment](exercises/ridge.ipynb) | [solution](solutions/ridge.ipynb)\n",
    "- Object detection: only **Ex 1** in [assignment](exercises/sign-lang.ipynb) | [solution](solutions/sign-lang.ipynb)"
   ]
  }
 ],
 "metadata": {
  "kernelspec": {
   "display_name": "Python [conda env:DataSciPy]",
   "language": "python",
   "name": "conda-env-DataSciPy-py"
  },
  "language_info": {
   "codemirror_mode": {
    "name": "ipython",
    "version": 3
   },
   "file_extension": ".py",
   "mimetype": "text/x-python",
   "name": "python",
   "nbconvert_exporter": "python",
   "pygments_lexer": "ipython3",
   "version": "3.12.7"
  }
 },
 "nbformat": 4,
 "nbformat_minor": 5
}
